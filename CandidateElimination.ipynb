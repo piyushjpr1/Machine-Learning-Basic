{
 "cells": [
  {
   "cell_type": "code",
   "execution_count": 5,
   "id": "08298062",
   "metadata": {},
   "outputs": [
    {
     "name": "stdout",
     "output_type": "stream",
     "text": [
      "Dataset : \n",
      "      sepal_length  sepal_width  petal_length  petal_width         species\n",
      "0             5.1          3.5           1.4          0.2     Iris-setosa\n",
      "1             4.9          3.0           1.4          0.2     Iris-setosa\n",
      "2             4.7          3.2           1.3          0.2     Iris-setosa\n",
      "3             4.6          3.1           1.5          0.2     Iris-setosa\n",
      "4             5.0          3.6           1.4          0.2      Iris-setos\n",
      "..            ...          ...           ...          ...             ...\n",
      "145           6.7          3.0           5.2          2.3  Iris-virginica\n",
      "146           6.3          2.5           5.0          1.9  Iris-virginica\n",
      "147           6.5          3.0           5.2          2.0  Iris-virginica\n",
      "148           6.2          3.4           5.4          2.3  Iris-virginica\n",
      "149           5.9          3.0           5.1          1.8  Iris-virginica\n",
      "\n",
      "[150 rows x 5 columns]\n",
      "\n",
      "General Hypothesis :  [['?' '?' '?' '?']]\n",
      "\n",
      "Specific Hypothesis :  ['?' '?' '?' '?']\n"
     ]
    },
    {
     "name": "stderr",
     "output_type": "stream",
     "text": [
      "C:\\Users\\PIYUSH GUPTA\\AppData\\Local\\Temp\\ipykernel_16792\\379626359.py:16: VisibleDeprecationWarning: Creating an ndarray from ragged nested sequences (which is a list-or-tuple of lists-or-tuples-or ndarrays with different lengths or shapes) is deprecated. If you meant to do this, you must specify 'dtype=object' when creating the ndarray.\n",
      "  arr=np.array(arr1)\n"
     ]
    }
   ],
   "source": [
    "import pandas as pd\n",
    "import numpy as np\n",
    "\n",
    "def Candidate(data):\n",
    "    t=np.array(data)\n",
    "    size_1=t.shape[1]-1\n",
    "    g_h=np.array([[\"?\"]*size_1],dtype=object)\n",
    "    s_h=np.array([None]*size_1,dtype=object)\n",
    "    arr1=[]\n",
    "    for i in range(0,size_1):\n",
    "        temp=[]\n",
    "        for j in range(0,t.shape[0]):\n",
    "            if(t[j][i] not in temp):\n",
    "                temp.append(t[j][i])\n",
    "        arr1.append(temp)\n",
    "    arr=np.array(arr1)\n",
    "    c=0\n",
    "    for i in data.species:\n",
    "        ans=[]\n",
    "        to_del=[]\n",
    "        if(i==\"No\"):\n",
    "            temp=0\n",
    "            for j in range(0,g_h.shape[0]):\n",
    "                for k in range(0,size_1):\n",
    "                    if(t[c][k]!=g_h[j][k] and g_h[j][k]!=\"?\"):\n",
    "                        temp=1\n",
    "                        break\n",
    "                if(temp==0):\n",
    "                    temp1=np.copy(g_h[j])\n",
    "                    for k in range(0,size_1):\n",
    "                        if(temp1[k]==\"?\"):\n",
    "                            for m in arr[k]:\n",
    "                                if m!=t[c][k]:\n",
    "                                    l1=np.copy(temp1)\n",
    "                                    l1[k]=m\n",
    "                                    ans.append(l1)\n",
    "                    to_del.append(j)\n",
    "            for j in range(0,len(to_del)):\n",
    "                g_h=np.delete(g_h,to_del[j]-j,0)\n",
    "            for j in ans:\n",
    "                g_h=np.insert(g_h,len(g_h),j,axis=0)\n",
    "        else:\n",
    "            for j in range(0,size_1):\n",
    "                if(s_h[j]==None):\n",
    "                    s_h[j]=t[c][j]\n",
    "                elif(s_h[j]!=t[c][j]):\n",
    "                    s_h[j]=\"?\"\n",
    "                else:\n",
    "                    continue\n",
    "            for j in range(g_h.shape[0]):\n",
    "                for k in range(g_h.shape[1]):\n",
    "                    if(t[c][k]!=g_h[j][k] and g_h[j][k]!=\"?\"):\n",
    "                        to_del.append(j)\n",
    "                        break\n",
    "            for j in range(0,len(to_del)):\n",
    "                g_h=np.delete(g_h,to_del[j]-j,0)\n",
    "        c+=1\n",
    "    print(\"\\nGeneral Hypothesis : \",g_h)\n",
    "    print(\"\\nSpecific Hypothesis : \",s_h)\n",
    "\n",
    "\n",
    "data = pd.read_csv(\"iris.csv\")\n",
    "print(\"Dataset : \\n\",data)\n",
    "Candidate(data)"
   ]
  }
 ],
 "metadata": {
  "kernelspec": {
   "display_name": "Python 3 (ipykernel)",
   "language": "python",
   "name": "python3"
  },
  "language_info": {
   "codemirror_mode": {
    "name": "ipython",
    "version": 3
   },
   "file_extension": ".py",
   "mimetype": "text/x-python",
   "name": "python",
   "nbconvert_exporter": "python",
   "pygments_lexer": "ipython3",
   "version": "3.9.13"
  }
 },
 "nbformat": 4,
 "nbformat_minor": 5
}

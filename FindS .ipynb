{
 "cells": [
  {
   "cell_type": "code",
   "execution_count": 2,
   "metadata": {},
   "outputs": [],
   "source": [
    "import pandas as pd\n",
    "import numpy as np\n",
    "data=pd.read_csv(\"FindS.csv\")"
   ]
  },
  {
   "cell_type": "code",
   "execution_count": 13,
   "metadata": {},
   "outputs": [
    {
     "name": "stdout",
     "output_type": "stream",
     "text": [
      "Specefic hypohesis :  ['Sunny' 'Warm' '?' 'Strong' '?' '?']\n"
     ]
    }
   ],
   "source": [
    "def FindS(data):\n",
    "    h=np.array([None]*6)\n",
    "    t=np.array(data)\n",
    "    c=0\n",
    "    for i in data.Enjoy:\n",
    "        if(i==\"No\"):\n",
    "            c+=1\n",
    "            continue\n",
    "        else:\n",
    "            temp=np.array(t[c])\n",
    "            for j in range(0,6):\n",
    "                if(h[j]==None):\n",
    "                    h[j]=temp[j]\n",
    "                elif(h[j]==temp[j]):\n",
    "                    continue\n",
    "                elif(h[j]==\"?\"):\n",
    "                    continue\n",
    "                else:\n",
    "                    h[j]=\"?\"\n",
    "        c+=1\n",
    "    print(\"Specefic hypohesis : \" ,h)\n",
    "FindS(data)\n",
    "                "
   ]
  },
  {
   "cell_type": "code",
   "execution_count": 11,
   "metadata": {},
   "outputs": [
    {
     "name": "stdout",
     "output_type": "stream",
     "text": [
      "Dataset : \n",
      "      Sky Airtemp Humidity    Wind Water Forecast Enjoy\n",
      "0  Sunny    Warm   Normal  Strong  Warm     Same   Yes\n",
      "1  Sunny    Warm     High  Strong  Warm     Same   Yes\n",
      "2  Rainy    Cold     High  Strong  Warm   Change    No\n",
      "3  Sunny    Warm     High  Strong  Cool   Change   Yes\n"
     ]
    }
   ],
   "source": [
    "print(\"Dataset : \\n\" ,data)\n",
    "    "
   ]
  },
  {
   "cell_type": "code",
   "execution_count": 2,
   "metadata": {},
   "outputs": [
    {
     "name": "stdout",
     "output_type": "stream",
     "text": [
      "     Sky Airtemp Humidity    Wind Water Forecast Enjoy\n",
      "0  Sunny    Warm   Normal  Strong  Warm     Same   Yes\n",
      "1  Sunny    Warm     High  Strong  Warm     Same   Yes\n",
      "2  Rainy    Cold     High  Strong  Warm   Change    No\n",
      "3  Sunny    Warm     High  Strong  Cool   Change   Yes n\n",
      "\n",
      " The attributes are:  [['Sunny' 'Warm' 'Normal' 'Strong' 'Warm' 'Same']\n",
      " ['Sunny' 'Warm' 'High' 'Strong' 'Warm' 'Same']\n",
      " ['Rainy' 'Cold' 'High' 'Strong' 'Warm' 'Change']\n",
      " ['Sunny' 'Warm' 'High' 'Strong' 'Cool' 'Change']]\n",
      "\n",
      " The target is:  ['Yes' 'Yes' 'No' 'Yes']\n",
      "\n",
      " The final hypothesis is: ['Sunny' 'Warm' '?' 'Strong' '?' '?']\n"
     ]
    }
   ],
   "source": [
    "import pandas as pd\n",
    "import numpy as np\n",
    " \n",
    "#to read the data in the csv file\n",
    "data = pd.read_csv(\"FindS.csv\")\n",
    "print(data,\"n\")\n",
    " \n",
    "#making an array of all the attributes\n",
    "d = np.array(data)[:,:-1]\n",
    "print(\"\\n The attributes are: \",d)\n",
    " \n",
    "\n",
    "target = np.array(data)[:,-1]\n",
    "print(\"\\n The target is: \",target)\n",
    "specific_hypothesis = []\n",
    "\n",
    "def train(c,t):\n",
    "    for i, val in enumerate(t):\n",
    "        if val == \"Yes\":\n",
    "            global specific_hypothesis \n",
    "            specific_hypothesis = c[i].copy()\n",
    "            break\n",
    "             \n",
    "    for i, val in enumerate(c):\n",
    "        if t[i] == \"Yes\":\n",
    "            for x in range(len(specific_hypothesis)):\n",
    "                if val[x] != specific_hypothesis[x]:\n",
    "                    specific_hypothesis[x] = '?'\n",
    "                else:\n",
    "                    pass\n",
    "                 \n",
    "    return specific_hypothesis\n",
    " \n",
    "\n",
    "print(\"\\n The final hypothesis is:\",train(d,target))"
   ]
  },
  {
   "cell_type": "code",
   "execution_count": 1,
   "metadata": {},
   "outputs": [
    {
     "name": "stdout",
     "output_type": "stream",
     "text": [
      "['Sunny' 'Warm' '?' 'Strong' '?' '?']\n"
     ]
    }
   ],
   "source": [
    "import pandas as pd\n",
    "import numpy as np\n",
    "data=pd.read_csv(\"ws.csv\")\n",
    "\n",
    "def FindS(data):\n",
    "    temp1=np.array(data)\n",
    "    size=temp1.shape[1]-1\n",
    "    h=np.array([None]*size)\n",
    "    t=np.array(data)\n",
    "    c=0\n",
    "    x=data.iloc[:,-1]\n",
    "    for i in x:\n",
    "        if(i==\"No\"):\n",
    "            c+=1\n",
    "            continue\n",
    "        else:\n",
    "            temp=np.array(t[c])\n",
    "            for j in range(0,size):\n",
    "                if(h[j]==None):\n",
    "                    h[j]=temp[j]\n",
    "                elif(h[j]==temp[j]):\n",
    "                    continue\n",
    "                elif(h[j]==\"?\"):\n",
    "                    continue\n",
    "                else:\n",
    "                    h[j]=\"?\"\n",
    "        c+=1\n",
    "    print(h)\n",
    "FindS(data)"
   ]
  }
 ],
 "metadata": {
  "kernelspec": {
   "display_name": "Python 3 (ipykernel)",
   "language": "python",
   "name": "python3"
  },
  "language_info": {
   "codemirror_mode": {
    "name": "ipython",
    "version": 3
   },
   "file_extension": ".py",
   "mimetype": "text/x-python",
   "name": "python",
   "nbconvert_exporter": "python",
   "pygments_lexer": "ipython3",
   "version": "3.9.13"
  }
 },
 "nbformat": 4,
 "nbformat_minor": 2
}

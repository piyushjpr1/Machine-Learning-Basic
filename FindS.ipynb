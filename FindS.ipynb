{
 "cells": [
  {
   "cell_type": "code",
   "execution_count": null,
   "id": "2ffa0982",
   "metadata": {},
   "outputs": [],
   "source": []
  },
  {
   "cell_type": "code",
   "execution_count": null,
   "id": "d24f4219",
   "metadata": {},
   "outputs": [],
   "source": []
  },
  {
   "cell_type": "code",
   "execution_count": 15,
   "id": "7854bac0",
   "metadata": {},
   "outputs": [
    {
     "name": "stdout",
     "output_type": "stream",
     "text": [
      "['Sunny' 'Warm' '?' 'Strong' '?' '?']\n"
     ]
    }
   ],
   "source": [
    "import pandas as pd\n",
    "import numpy as np\n",
    "data=pd.read_csv(\"ws.csv\")\n",
    "def FindS(data):\n",
    "    h=np.array([None]*6)\n",
    "    t=np.array(data)\n",
    "    c=0\n",
    "    for i in data.Enjoy:\n",
    "        if(i==\"No\"):\n",
    "            c+=1\n",
    "            continue\n",
    "        else:\n",
    "            temp=np.array(t[c])\n",
    "            for j in range(0,6):\n",
    "                if(h[j]==None):\n",
    "                    h[j]=temp[j]\n",
    "                elif(h[j]==temp[j]):\n",
    "                    continue\n",
    "                elif(h[j]==\"?\"):\n",
    "                    continue\n",
    "                else:\n",
    "                    h[j]=\"?\"\n",
    "        c+=1\n",
    "    print(h)\n",
    "FindS(data)"
   ]
  },
  {
   "cell_type": "code",
   "execution_count": null,
   "id": "2f6f551b",
   "metadata": {},
   "outputs": [],
   "source": []
  }
 ],
 "metadata": {
  "kernelspec": {
   "display_name": "Python 3 (ipykernel)",
   "language": "python",
   "name": "python3"
  },
  "language_info": {
   "codemirror_mode": {
    "name": "ipython",
    "version": 3
   },
   "file_extension": ".py",
   "mimetype": "text/x-python",
   "name": "python",
   "nbconvert_exporter": "python",
   "pygments_lexer": "ipython3",
   "version": "3.9.13"
  }
 },
 "nbformat": 4,
 "nbformat_minor": 5
}
